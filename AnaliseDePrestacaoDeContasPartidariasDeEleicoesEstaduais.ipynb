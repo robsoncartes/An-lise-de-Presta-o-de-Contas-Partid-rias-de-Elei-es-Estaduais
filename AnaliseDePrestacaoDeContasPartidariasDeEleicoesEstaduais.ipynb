{
 "cells": [
  {
   "cell_type": "markdown",
   "metadata": {
    "pycharm": {
     "name": "#%% md\n"
    }
   },
   "source": [
    "### Análise de Prestação de Contas Partidárias de Eleições Estaduais"
   ]
  },
  {
   "cell_type": "code",
   "execution_count": 1,
   "metadata": {
    "pycharm": {
     "name": "#%%\n"
    }
   },
   "outputs": [],
   "source": [
    "# Importação das libs\n",
    "import locale\n",
    "import copy\n",
    "from locale import atof\n",
    "import electionsBR as api\n",
    "import pandas as pd\n",
    "from matplotlib import pyplot as plt\n"
   ]
  },
  {
   "cell_type": "code",
   "execution_count": 2,
   "metadata": {},
   "outputs": [],
   "source": [
    "# Ajuste de formatação\n",
    "locale.setlocale(locale.LC_ALL, 'pt_BR.UTF-8')\n",
    "pd.set_option(\"float_format\", locale.currency)\n"
   ]
  },
  {
   "cell_type": "code",
   "execution_count": 3,
   "metadata": {
    "pycharm": {
     "name": "#%%\n"
    }
   },
   "outputs": [],
   "source": [
    "# Leitura dos dados dos bens declarados para um determinado cargo (presidente, governador, senador, deputado federal, deputado estadual, prefeito, vereador)\n",
    "\n",
    "elections2010 = api.get_assets(year=2010, position=\"governador\")\n",
    "elections2014 = api.get_assets(year=2014, position=\"governador\")\n",
    "elections2018 = api.get_assets(year=2018, position=\"governador\")\n"
   ]
  },
  {
   "cell_type": "code",
   "execution_count": 4,
   "metadata": {
    "pycharm": {
     "name": "#%%\n"
    }
   },
   "outputs": [],
   "source": [
    "# Filtro para exibir registros (contém todas as colunas) onde a 'SIGLA_UF' seja apenas 'SP' ou 'RJ' e DESCRICAO_CARGO seja 'GOVERNADOR'\n",
    "\n",
    "filter_elections2010 = elections2010[(elections2010[\"DESCRICAO_CARGO\"] == \"GOVERNADOR\")]\n",
    "filter_elections2014 = elections2014[(elections2014[\"DESCRICAO_CARGO\"] == \"GOVERNADOR\")]\n",
    "filter_elections2018 = elections2018[(elections2018[\"DESCRICAO_CARGO\"] == \"GOVERNADOR\")]\n"
   ]
  },
  {
   "cell_type": "code",
   "execution_count": 5,
   "metadata": {
    "pycharm": {
     "name": "#%%\n"
    }
   },
   "outputs": [
    {
     "data": {
      "text/html": [
       "<div>\n",
       "<style scoped>\n",
       "    .dataframe tbody tr th:only-of-type {\n",
       "        vertical-align: middle;\n",
       "    }\n",
       "\n",
       "    .dataframe tbody tr th {\n",
       "        vertical-align: top;\n",
       "    }\n",
       "\n",
       "    .dataframe thead th {\n",
       "        text-align: right;\n",
       "    }\n",
       "</style>\n",
       "<table border=\"1\" class=\"dataframe\">\n",
       "  <thead>\n",
       "    <tr style=\"text-align: right;\">\n",
       "      <th></th>\n",
       "      <th>DATA_GERACAO</th>\n",
       "      <th>HORA_GERACAO</th>\n",
       "      <th>ANO_ELEICAO</th>\n",
       "      <th>DESCRICAO_ELEICAO</th>\n",
       "      <th>SIGLA_UF</th>\n",
       "      <th>SEQUENCIAL_CANDIDATO</th>\n",
       "      <th>CD_TIPO_BEM_CANDIDATO</th>\n",
       "      <th>DS_TIPO_BEM_CANDIDATO</th>\n",
       "      <th>DETALHE_BEM</th>\n",
       "      <th>VALOR_BEM</th>\n",
       "      <th>...</th>\n",
       "      <th>ID_CANDIDATO</th>\n",
       "      <th>SIGLA_UE</th>\n",
       "      <th>CODIGO_CARGO</th>\n",
       "      <th>DESCRICAO_CARGO</th>\n",
       "      <th>NUMERO_PARTIDO</th>\n",
       "      <th>SIGLA_PARTIDO</th>\n",
       "      <th>NOME_CANDIDATO</th>\n",
       "      <th>NUMERO_CANDIDATO</th>\n",
       "      <th>CPF_CANDIDATO</th>\n",
       "      <th>NUM_TITULO_ELEITORAL_CANDIDATO</th>\n",
       "    </tr>\n",
       "  </thead>\n",
       "  <tbody>\n",
       "    <tr>\n",
       "      <th>74791</th>\n",
       "      <td>07/11/2018</td>\n",
       "      <td>18:39:09</td>\n",
       "      <td>2010</td>\n",
       "      <td>ELEIÇÕES 2010</td>\n",
       "      <td>SP</td>\n",
       "      <td>250000002541</td>\n",
       "      <td>13</td>\n",
       "      <td>TERRENO</td>\n",
       "      <td>RUA CASTANHEIRO VL MARIA NA SPSP FRAÇÃO IDEAL</td>\n",
       "      <td>13.444,37</td>\n",
       "      <td>...</td>\n",
       "      <td>6018372</td>\n",
       "      <td>SP</td>\n",
       "      <td>3</td>\n",
       "      <td>GOVERNADOR</td>\n",
       "      <td>43</td>\n",
       "      <td>PV</td>\n",
       "      <td>FABIO JOSÉ FELDMANN</td>\n",
       "      <td>43</td>\n",
       "      <td>01017886814</td>\n",
       "      <td>000037080175</td>\n",
       "    </tr>\n",
       "    <tr>\n",
       "      <th>62772</th>\n",
       "      <td>07/11/2018</td>\n",
       "      <td>18:39:08</td>\n",
       "      <td>2010</td>\n",
       "      <td>ELEIÇÕES 2010</td>\n",
       "      <td>SC</td>\n",
       "      <td>240000000148</td>\n",
       "      <td>12</td>\n",
       "      <td>CASA</td>\n",
       "      <td>CASA DE PRAIA</td>\n",
       "      <td>168.620,00</td>\n",
       "      <td>...</td>\n",
       "      <td>6017796</td>\n",
       "      <td>SC</td>\n",
       "      <td>3</td>\n",
       "      <td>GOVERNADOR</td>\n",
       "      <td>50</td>\n",
       "      <td>PSOL</td>\n",
       "      <td>VALMIR MARTINS</td>\n",
       "      <td>50</td>\n",
       "      <td>02983737934</td>\n",
       "      <td>005045400914</td>\n",
       "    </tr>\n",
       "    <tr>\n",
       "      <th>11622</th>\n",
       "      <td>07/11/2018</td>\n",
       "      <td>18:39:01</td>\n",
       "      <td>2010</td>\n",
       "      <td>ELEIÇÕES 2010</td>\n",
       "      <td>DF</td>\n",
       "      <td>70000000051</td>\n",
       "      <td>41</td>\n",
       "      <td>CADERNETA DE POUPANÇA</td>\n",
       "      <td>POUPANÇA OURO - BANCO DO BRASIL, AG. 1606-3</td>\n",
       "      <td>1.030,80</td>\n",
       "      <td>...</td>\n",
       "      <td>6003647</td>\n",
       "      <td>DF</td>\n",
       "      <td>3</td>\n",
       "      <td>GOVERNADOR</td>\n",
       "      <td>50</td>\n",
       "      <td>PSOL</td>\n",
       "      <td>ANTONIO CARLOS DE ANDRADE</td>\n",
       "      <td>50</td>\n",
       "      <td>41489772715</td>\n",
       "      <td>007543752011</td>\n",
       "    </tr>\n",
       "    <tr>\n",
       "      <th>1220</th>\n",
       "      <td>07/11/2018</td>\n",
       "      <td>18:38:59</td>\n",
       "      <td>2010</td>\n",
       "      <td>ELEIÇÕES 2010</td>\n",
       "      <td>AL</td>\n",
       "      <td>20000000059</td>\n",
       "      <td>26</td>\n",
       "      <td>LINHA TELEFÔNICA</td>\n",
       "      <td>LINHA RESIDENCIAL, CONTRATO N. 0533840</td>\n",
       "      <td>1.110,35</td>\n",
       "      <td>...</td>\n",
       "      <td>6000448</td>\n",
       "      <td>AL</td>\n",
       "      <td>3</td>\n",
       "      <td>GOVERNADOR</td>\n",
       "      <td>14</td>\n",
       "      <td>PTB</td>\n",
       "      <td>FERNANDO AFFONSO COLLOR DE MELLO</td>\n",
       "      <td>14</td>\n",
       "      <td>02906287172</td>\n",
       "      <td>006630471724</td>\n",
       "    </tr>\n",
       "    <tr>\n",
       "      <th>14770</th>\n",
       "      <td>07/11/2018</td>\n",
       "      <td>18:39:01</td>\n",
       "      <td>2010</td>\n",
       "      <td>ELEIÇÕES 2010</td>\n",
       "      <td>DF</td>\n",
       "      <td>70000001223</td>\n",
       "      <td>21</td>\n",
       "      <td>VEÍCULO AUTOMOTOR TERRESTRE: CAMINHÃO, AUTOMÓV...</td>\n",
       "      <td>FORD F250</td>\n",
       "      <td>93.000,00</td>\n",
       "      <td>...</td>\n",
       "      <td>6003653</td>\n",
       "      <td>DF</td>\n",
       "      <td>3</td>\n",
       "      <td>GOVERNADOR</td>\n",
       "      <td>20</td>\n",
       "      <td>PSC</td>\n",
       "      <td>WESLIAN DO PERPETUO SOCORRO PELES RORIZ</td>\n",
       "      <td>20</td>\n",
       "      <td>26557401149</td>\n",
       "      <td>010284162089</td>\n",
       "    </tr>\n",
       "  </tbody>\n",
       "</table>\n",
       "<p>5 rows × 22 columns</p>\n",
       "</div>"
      ],
      "text/plain": [
       "      DATA_GERACAO HORA_GERACAO ANO_ELEICAO DESCRICAO_ELEICAO SIGLA_UF  \\\n",
       "74791   07/11/2018     18:39:09        2010     ELEIÇÕES 2010       SP   \n",
       "62772   07/11/2018     18:39:08        2010     ELEIÇÕES 2010       SC   \n",
       "11622   07/11/2018     18:39:01        2010     ELEIÇÕES 2010       DF   \n",
       "1220    07/11/2018     18:38:59        2010     ELEIÇÕES 2010       AL   \n",
       "14770   07/11/2018     18:39:01        2010     ELEIÇÕES 2010       DF   \n",
       "\n",
       "      SEQUENCIAL_CANDIDATO CD_TIPO_BEM_CANDIDATO  \\\n",
       "74791         250000002541                    13   \n",
       "62772         240000000148                    12   \n",
       "11622          70000000051                    41   \n",
       "1220           20000000059                    26   \n",
       "14770          70000001223                    21   \n",
       "\n",
       "                                   DS_TIPO_BEM_CANDIDATO  \\\n",
       "74791                                            TERRENO   \n",
       "62772                                               CASA   \n",
       "11622                              CADERNETA DE POUPANÇA   \n",
       "1220                                    LINHA TELEFÔNICA   \n",
       "14770  VEÍCULO AUTOMOTOR TERRESTRE: CAMINHÃO, AUTOMÓV...   \n",
       "\n",
       "                                         DETALHE_BEM   VALOR_BEM  ...  \\\n",
       "74791  RUA CASTANHEIRO VL MARIA NA SPSP FRAÇÃO IDEAL   13.444,37  ...   \n",
       "62772                                  CASA DE PRAIA  168.620,00  ...   \n",
       "11622    POUPANÇA OURO - BANCO DO BRASIL, AG. 1606-3    1.030,80  ...   \n",
       "1220          LINHA RESIDENCIAL, CONTRATO N. 0533840    1.110,35  ...   \n",
       "14770                                      FORD F250   93.000,00  ...   \n",
       "\n",
       "      ID_CANDIDATO SIGLA_UE CODIGO_CARGO DESCRICAO_CARGO NUMERO_PARTIDO  \\\n",
       "74791      6018372       SP            3      GOVERNADOR             43   \n",
       "62772      6017796       SC            3      GOVERNADOR             50   \n",
       "11622      6003647       DF            3      GOVERNADOR             50   \n",
       "1220       6000448       AL            3      GOVERNADOR             14   \n",
       "14770      6003653       DF            3      GOVERNADOR             20   \n",
       "\n",
       "      SIGLA_PARTIDO                           NOME_CANDIDATO NUMERO_CANDIDATO  \\\n",
       "74791            PV                      FABIO JOSÉ FELDMANN               43   \n",
       "62772          PSOL                           VALMIR MARTINS               50   \n",
       "11622          PSOL                ANTONIO CARLOS DE ANDRADE               50   \n",
       "1220            PTB         FERNANDO AFFONSO COLLOR DE MELLO               14   \n",
       "14770           PSC  WESLIAN DO PERPETUO SOCORRO PELES RORIZ               20   \n",
       "\n",
       "      CPF_CANDIDATO NUM_TITULO_ELEITORAL_CANDIDATO  \n",
       "74791   01017886814                   000037080175  \n",
       "62772   02983737934                   005045400914  \n",
       "11622   41489772715                   007543752011  \n",
       "1220    02906287172                   006630471724  \n",
       "14770   26557401149                   010284162089  \n",
       "\n",
       "[5 rows x 22 columns]"
      ]
     },
     "execution_count": 5,
     "metadata": {},
     "output_type": "execute_result"
    }
   ],
   "source": [
    "# Exemplo de amostra\n",
    "filter_elections2010.sample(5)\n"
   ]
  },
  {
   "cell_type": "code",
   "execution_count": 6,
   "metadata": {},
   "outputs": [
    {
     "data": {
      "text/html": [
       "<div>\n",
       "<style scoped>\n",
       "    .dataframe tbody tr th:only-of-type {\n",
       "        vertical-align: middle;\n",
       "    }\n",
       "\n",
       "    .dataframe tbody tr th {\n",
       "        vertical-align: top;\n",
       "    }\n",
       "\n",
       "    .dataframe thead th {\n",
       "        text-align: right;\n",
       "    }\n",
       "</style>\n",
       "<table border=\"1\" class=\"dataframe\">\n",
       "  <thead>\n",
       "    <tr style=\"text-align: right;\">\n",
       "      <th></th>\n",
       "      <th>DATA_GERACAO</th>\n",
       "      <th>ANO_ELEICAO</th>\n",
       "      <th>DESCRICAO_ELEICAO</th>\n",
       "      <th>SIGLA_UF</th>\n",
       "      <th>DESCRICAO_CARGO</th>\n",
       "      <th>SIGLA_PARTIDO</th>\n",
       "      <th>NOME_CANDIDATO</th>\n",
       "      <th>CPF_CANDIDATO</th>\n",
       "    </tr>\n",
       "  </thead>\n",
       "  <tbody>\n",
       "    <tr>\n",
       "      <th>37960</th>\n",
       "      <td>07/11/2018</td>\n",
       "      <td>2010</td>\n",
       "      <td>ELEIÇÕES 2010</td>\n",
       "      <td>PB</td>\n",
       "      <td>DEPUTADO FEDERAL</td>\n",
       "      <td>PSDB</td>\n",
       "      <td>JOAO BATISTA FREIRE VIEGAS</td>\n",
       "      <td>10904255468</td>\n",
       "    </tr>\n",
       "    <tr>\n",
       "      <th>15638</th>\n",
       "      <td>07/11/2018</td>\n",
       "      <td>2010</td>\n",
       "      <td>ELEIÇÕES 2010</td>\n",
       "      <td>ES</td>\n",
       "      <td>DEPUTADO ESTADUAL</td>\n",
       "      <td>DEM</td>\n",
       "      <td>ANTONIO MOREIRA</td>\n",
       "      <td>09621083753</td>\n",
       "    </tr>\n",
       "    <tr>\n",
       "      <th>7842</th>\n",
       "      <td>07/11/2018</td>\n",
       "      <td>2010</td>\n",
       "      <td>ELEIÇÕES 2010</td>\n",
       "      <td>BA</td>\n",
       "      <td>DEPUTADO FEDERAL</td>\n",
       "      <td>PT</td>\n",
       "      <td>LUIZ ALBERTO SILVA DOS SANTOS</td>\n",
       "      <td>07931174534</td>\n",
       "    </tr>\n",
       "    <tr>\n",
       "      <th>59825</th>\n",
       "      <td>07/11/2018</td>\n",
       "      <td>2010</td>\n",
       "      <td>ELEIÇÕES 2010</td>\n",
       "      <td>RS</td>\n",
       "      <td>DEPUTADO ESTADUAL</td>\n",
       "      <td>PDT</td>\n",
       "      <td>ELEMAR SAND</td>\n",
       "      <td>24473405087</td>\n",
       "    </tr>\n",
       "    <tr>\n",
       "      <th>59669</th>\n",
       "      <td>07/11/2018</td>\n",
       "      <td>2010</td>\n",
       "      <td>ELEIÇÕES 2010</td>\n",
       "      <td>RS</td>\n",
       "      <td>DEPUTADO FEDERAL</td>\n",
       "      <td>PDT</td>\n",
       "      <td>GIOVANI CHERINI</td>\n",
       "      <td>31050778049</td>\n",
       "    </tr>\n",
       "  </tbody>\n",
       "</table>\n",
       "</div>"
      ],
      "text/plain": [
       "      DATA_GERACAO ANO_ELEICAO DESCRICAO_ELEICAO SIGLA_UF    DESCRICAO_CARGO  \\\n",
       "37960   07/11/2018        2010     ELEIÇÕES 2010       PB   DEPUTADO FEDERAL   \n",
       "15638   07/11/2018        2010     ELEIÇÕES 2010       ES  DEPUTADO ESTADUAL   \n",
       "7842    07/11/2018        2010     ELEIÇÕES 2010       BA   DEPUTADO FEDERAL   \n",
       "59825   07/11/2018        2010     ELEIÇÕES 2010       RS  DEPUTADO ESTADUAL   \n",
       "59669   07/11/2018        2010     ELEIÇÕES 2010       RS   DEPUTADO FEDERAL   \n",
       "\n",
       "      SIGLA_PARTIDO                 NOME_CANDIDATO CPF_CANDIDATO  \n",
       "37960          PSDB     JOAO BATISTA FREIRE VIEGAS   10904255468  \n",
       "15638           DEM                ANTONIO MOREIRA   09621083753  \n",
       "7842             PT  LUIZ ALBERTO SILVA DOS SANTOS   07931174534  \n",
       "59825           PDT                    ELEMAR SAND   24473405087  \n",
       "59669           PDT                GIOVANI CHERINI   31050778049  "
      ]
     },
     "execution_count": 6,
     "metadata": {},
     "output_type": "execute_result"
    }
   ],
   "source": [
    "# Exbibe os registros com uma lista de colunas pré-definidas\n",
    "elections2010.loc[:, ['DATA_GERACAO', 'ANO_ELEICAO', 'DESCRICAO_ELEICAO', 'SIGLA_UF', 'DESCRICAO_CARGO',\n",
    "                     'SIGLA_PARTIDO', 'NOME_CANDIDATO', 'CPF_CANDIDATO']].sample(5)\n"
   ]
  },
  {
   "cell_type": "code",
   "execution_count": 7,
   "metadata": {
    "pycharm": {
     "name": "#%%\n"
    }
   },
   "outputs": [
    {
     "data": {
      "text/html": [
       "<div>\n",
       "<style scoped>\n",
       "    .dataframe tbody tr th:only-of-type {\n",
       "        vertical-align: middle;\n",
       "    }\n",
       "\n",
       "    .dataframe tbody tr th {\n",
       "        vertical-align: top;\n",
       "    }\n",
       "\n",
       "    .dataframe thead th {\n",
       "        text-align: right;\n",
       "    }\n",
       "</style>\n",
       "<table border=\"1\" class=\"dataframe\">\n",
       "  <thead>\n",
       "    <tr style=\"text-align: right;\">\n",
       "      <th></th>\n",
       "      <th>DATA_GERACAO</th>\n",
       "      <th>ANO_ELEICAO</th>\n",
       "      <th>DESCRICAO_ELEICAO</th>\n",
       "      <th>SIGLA_UF</th>\n",
       "      <th>DESCRICAO_CARGO</th>\n",
       "      <th>SIGLA_PARTIDO</th>\n",
       "      <th>NOME_CANDIDATO</th>\n",
       "      <th>CPF_CANDIDATO</th>\n",
       "      <th>DETALHE_BEM</th>\n",
       "      <th>VALOR_BEM</th>\n",
       "    </tr>\n",
       "  </thead>\n",
       "  <tbody>\n",
       "    <tr>\n",
       "      <th>277</th>\n",
       "      <td>07/11/2018</td>\n",
       "      <td>2010</td>\n",
       "      <td>ELEIÇÕES 2010</td>\n",
       "      <td>AC</td>\n",
       "      <td>GOVERNADOR</td>\n",
       "      <td>PT</td>\n",
       "      <td>SEBASTIÃO AFONSO VIANA MACEDO NEVES</td>\n",
       "      <td>09137394215</td>\n",
       "      <td>PARTICIPAÇÃO DE 95% NO CAPITAL SOCIAL DA SOCIE...</td>\n",
       "      <td>9.500,00</td>\n",
       "    </tr>\n",
       "    <tr>\n",
       "      <th>278</th>\n",
       "      <td>07/11/2018</td>\n",
       "      <td>2010</td>\n",
       "      <td>ELEIÇÕES 2010</td>\n",
       "      <td>AC</td>\n",
       "      <td>GOVERNADOR</td>\n",
       "      <td>PT</td>\n",
       "      <td>SEBASTIÃO AFONSO VIANA MACEDO NEVES</td>\n",
       "      <td>09137394215</td>\n",
       "      <td>CONTA CORRENTE NO BANCO DO BRASIL AGENCIA 4884...</td>\n",
       "      <td>1.139,98</td>\n",
       "    </tr>\n",
       "    <tr>\n",
       "      <th>279</th>\n",
       "      <td>07/11/2018</td>\n",
       "      <td>2010</td>\n",
       "      <td>ELEIÇÕES 2010</td>\n",
       "      <td>AC</td>\n",
       "      <td>GOVERNADOR</td>\n",
       "      <td>PT</td>\n",
       "      <td>SEBASTIÃO AFONSO VIANA MACEDO NEVES</td>\n",
       "      <td>09137394215</td>\n",
       "      <td>1 IMOVEL RESIDENCIAL SITUADA NA ALAMEDA DAS AC...</td>\n",
       "      <td>297.185,71</td>\n",
       "    </tr>\n",
       "    <tr>\n",
       "      <th>280</th>\n",
       "      <td>07/11/2018</td>\n",
       "      <td>2010</td>\n",
       "      <td>ELEIÇÕES 2010</td>\n",
       "      <td>AC</td>\n",
       "      <td>GOVERNADOR</td>\n",
       "      <td>PT</td>\n",
       "      <td>SEBASTIÃO AFONSO VIANA MACEDO NEVES</td>\n",
       "      <td>09137394215</td>\n",
       "      <td>VEICULO ECO SPORTE 2008 FINANCIADO PELO DIBENS...</td>\n",
       "      <td>52.000,00</td>\n",
       "    </tr>\n",
       "    <tr>\n",
       "      <th>281</th>\n",
       "      <td>07/11/2018</td>\n",
       "      <td>2010</td>\n",
       "      <td>ELEIÇÕES 2010</td>\n",
       "      <td>AC</td>\n",
       "      <td>GOVERNADOR</td>\n",
       "      <td>PT</td>\n",
       "      <td>SEBASTIÃO AFONSO VIANA MACEDO NEVES</td>\n",
       "      <td>09137394215</td>\n",
       "      <td>PARTICIPAÇÃO EM 100% NO CAPITAL SOCIAL DA EMPR...</td>\n",
       "      <td>10.000,00</td>\n",
       "    </tr>\n",
       "  </tbody>\n",
       "</table>\n",
       "</div>"
      ],
      "text/plain": [
       "    DATA_GERACAO ANO_ELEICAO DESCRICAO_ELEICAO SIGLA_UF DESCRICAO_CARGO  \\\n",
       "277   07/11/2018        2010     ELEIÇÕES 2010       AC      GOVERNADOR   \n",
       "278   07/11/2018        2010     ELEIÇÕES 2010       AC      GOVERNADOR   \n",
       "279   07/11/2018        2010     ELEIÇÕES 2010       AC      GOVERNADOR   \n",
       "280   07/11/2018        2010     ELEIÇÕES 2010       AC      GOVERNADOR   \n",
       "281   07/11/2018        2010     ELEIÇÕES 2010       AC      GOVERNADOR   \n",
       "\n",
       "    SIGLA_PARTIDO                       NOME_CANDIDATO CPF_CANDIDATO  \\\n",
       "277            PT  SEBASTIÃO AFONSO VIANA MACEDO NEVES   09137394215   \n",
       "278            PT  SEBASTIÃO AFONSO VIANA MACEDO NEVES   09137394215   \n",
       "279            PT  SEBASTIÃO AFONSO VIANA MACEDO NEVES   09137394215   \n",
       "280            PT  SEBASTIÃO AFONSO VIANA MACEDO NEVES   09137394215   \n",
       "281            PT  SEBASTIÃO AFONSO VIANA MACEDO NEVES   09137394215   \n",
       "\n",
       "                                           DETALHE_BEM   VALOR_BEM  \n",
       "277  PARTICIPAÇÃO DE 95% NO CAPITAL SOCIAL DA SOCIE...    9.500,00  \n",
       "278  CONTA CORRENTE NO BANCO DO BRASIL AGENCIA 4884...    1.139,98  \n",
       "279  1 IMOVEL RESIDENCIAL SITUADA NA ALAMEDA DAS AC...  297.185,71  \n",
       "280  VEICULO ECO SPORTE 2008 FINANCIADO PELO DIBENS...   52.000,00  \n",
       "281  PARTICIPAÇÃO EM 100% NO CAPITAL SOCIAL DA EMPR...   10.000,00  "
      ]
     },
     "execution_count": 7,
     "metadata": {},
     "output_type": "execute_result"
    }
   ],
   "source": [
    "# Utiliza o filtro e exibi os primeiros registros com as colunas desejadas e que satisfazem a condição (DESCRICAO_CARGO == 'GOVERNADOR')\n",
    "filter_elections2010.loc[:, ['DATA_GERACAO', 'ANO_ELEICAO', 'DESCRICAO_ELEICAO', 'SIGLA_UF', 'DESCRICAO_CARGO',\n",
    "                     'SIGLA_PARTIDO', 'NOME_CANDIDATO', 'CPF_CANDIDATO', 'DETALHE_BEM', 'VALOR_BEM']].head()\n"
   ]
  },
  {
   "cell_type": "code",
   "execution_count": 8,
   "metadata": {
    "pycharm": {
     "name": "#%%\n"
    }
   },
   "outputs": [
    {
     "data": {
      "text/html": [
       "<div>\n",
       "<style scoped>\n",
       "    .dataframe tbody tr th:only-of-type {\n",
       "        vertical-align: middle;\n",
       "    }\n",
       "\n",
       "    .dataframe tbody tr th {\n",
       "        vertical-align: top;\n",
       "    }\n",
       "\n",
       "    .dataframe thead th {\n",
       "        text-align: right;\n",
       "    }\n",
       "</style>\n",
       "<table border=\"1\" class=\"dataframe\">\n",
       "  <thead>\n",
       "    <tr style=\"text-align: right;\">\n",
       "      <th></th>\n",
       "      <th>DATA_GERACAO</th>\n",
       "      <th>ANO_ELEICAO</th>\n",
       "      <th>DESCRICAO_ELEICAO</th>\n",
       "      <th>SIGLA_UF</th>\n",
       "      <th>DESCRICAO_CARGO</th>\n",
       "      <th>SIGLA_PARTIDO</th>\n",
       "      <th>NOME_CANDIDATO</th>\n",
       "      <th>CPF_CANDIDATO</th>\n",
       "      <th>DETALHE_BEM</th>\n",
       "      <th>VALOR_BEM</th>\n",
       "    </tr>\n",
       "  </thead>\n",
       "  <tbody>\n",
       "    <tr>\n",
       "      <th>80817</th>\n",
       "      <td>07/11/2018</td>\n",
       "      <td>2010</td>\n",
       "      <td>ELEIÇÕES 2010</td>\n",
       "      <td>TO</td>\n",
       "      <td>GOVERNADOR</td>\n",
       "      <td>PMDB</td>\n",
       "      <td>CARLOS HENRIQUE AMORIM</td>\n",
       "      <td>21944202153</td>\n",
       "      <td>DISPONIBILIDADE FINANCEIRA</td>\n",
       "      <td>420.000,00</td>\n",
       "    </tr>\n",
       "    <tr>\n",
       "      <th>80818</th>\n",
       "      <td>07/11/2018</td>\n",
       "      <td>2010</td>\n",
       "      <td>ELEIÇÕES 2010</td>\n",
       "      <td>TO</td>\n",
       "      <td>GOVERNADOR</td>\n",
       "      <td>PMDB</td>\n",
       "      <td>CARLOS HENRIQUE AMORIM</td>\n",
       "      <td>21944202153</td>\n",
       "      <td>SALDO EM C/C JUNTO A CAIXA ECONÔMICA FEDERAL</td>\n",
       "      <td>5.607,02</td>\n",
       "    </tr>\n",
       "    <tr>\n",
       "      <th>80819</th>\n",
       "      <td>07/11/2018</td>\n",
       "      <td>2010</td>\n",
       "      <td>ELEIÇÕES 2010</td>\n",
       "      <td>TO</td>\n",
       "      <td>GOVERNADOR</td>\n",
       "      <td>PMDB</td>\n",
       "      <td>CARLOS HENRIQUE AMORIM</td>\n",
       "      <td>21944202153</td>\n",
       "      <td>SALDO EM CONTA CONJUNTA JUNTO AO BANCO DO BRASIL</td>\n",
       "      <td>165.311,56</td>\n",
       "    </tr>\n",
       "    <tr>\n",
       "      <th>80820</th>\n",
       "      <td>07/11/2018</td>\n",
       "      <td>2010</td>\n",
       "      <td>ELEIÇÕES 2010</td>\n",
       "      <td>TO</td>\n",
       "      <td>GOVERNADOR</td>\n",
       "      <td>PMDB</td>\n",
       "      <td>CARLOS HENRIQUE AMORIM</td>\n",
       "      <td>21944202153</td>\n",
       "      <td>SALDO EM CONTA JUNTO AO BANCO BRADESCO S/A</td>\n",
       "      <td>3.121,49</td>\n",
       "    </tr>\n",
       "    <tr>\n",
       "      <th>80821</th>\n",
       "      <td>07/11/2018</td>\n",
       "      <td>2010</td>\n",
       "      <td>ELEIÇÕES 2010</td>\n",
       "      <td>TO</td>\n",
       "      <td>GOVERNADOR</td>\n",
       "      <td>PMDB</td>\n",
       "      <td>CARLOS HENRIQUE AMORIM</td>\n",
       "      <td>21944202153</td>\n",
       "      <td>FUNDO DE CAPITALIZAÇÃO JUNTO A CAIXA ECONÔMICA...</td>\n",
       "      <td>19.096,45</td>\n",
       "    </tr>\n",
       "  </tbody>\n",
       "</table>\n",
       "</div>"
      ],
      "text/plain": [
       "      DATA_GERACAO ANO_ELEICAO DESCRICAO_ELEICAO SIGLA_UF DESCRICAO_CARGO  \\\n",
       "80817   07/11/2018        2010     ELEIÇÕES 2010       TO      GOVERNADOR   \n",
       "80818   07/11/2018        2010     ELEIÇÕES 2010       TO      GOVERNADOR   \n",
       "80819   07/11/2018        2010     ELEIÇÕES 2010       TO      GOVERNADOR   \n",
       "80820   07/11/2018        2010     ELEIÇÕES 2010       TO      GOVERNADOR   \n",
       "80821   07/11/2018        2010     ELEIÇÕES 2010       TO      GOVERNADOR   \n",
       "\n",
       "      SIGLA_PARTIDO          NOME_CANDIDATO CPF_CANDIDATO  \\\n",
       "80817          PMDB  CARLOS HENRIQUE AMORIM   21944202153   \n",
       "80818          PMDB  CARLOS HENRIQUE AMORIM   21944202153   \n",
       "80819          PMDB  CARLOS HENRIQUE AMORIM   21944202153   \n",
       "80820          PMDB  CARLOS HENRIQUE AMORIM   21944202153   \n",
       "80821          PMDB  CARLOS HENRIQUE AMORIM   21944202153   \n",
       "\n",
       "                                             DETALHE_BEM   VALOR_BEM  \n",
       "80817                         DISPONIBILIDADE FINANCEIRA  420.000,00  \n",
       "80818       SALDO EM C/C JUNTO A CAIXA ECONÔMICA FEDERAL    5.607,02  \n",
       "80819   SALDO EM CONTA CONJUNTA JUNTO AO BANCO DO BRASIL  165.311,56  \n",
       "80820         SALDO EM CONTA JUNTO AO BANCO BRADESCO S/A    3.121,49  \n",
       "80821  FUNDO DE CAPITALIZAÇÃO JUNTO A CAIXA ECONÔMICA...   19.096,45  "
      ]
     },
     "execution_count": 8,
     "metadata": {},
     "output_type": "execute_result"
    }
   ],
   "source": [
    "# Utiliza o filtro para exibir os últimos registros e as colunas desejadas de acordo com o indice correspondente de cada coluna\n",
    "filter_elections2010.iloc[:, [0, 2, 3, 4, 15, 17, 18, 20, 8, 9]].tail()\n"
   ]
  },
  {
   "cell_type": "code",
   "execution_count": 9,
   "metadata": {
    "pycharm": {
     "name": "#%%\n"
    }
   },
   "outputs": [],
   "source": [
    "# Concatenação dos dataframes\n",
    "elections = pd.concat([elections2010, elections2014])\n",
    "elections = pd.concat([elections, elections2018])\n",
    "elections.reset_index(inplace=True)\n"
   ]
  },
  {
   "cell_type": "code",
   "execution_count": 10,
   "metadata": {
    "pycharm": {
     "name": "#%%\n"
    }
   },
   "outputs": [
    {
     "data": {
      "text/plain": [
       "Index(['index', 'DATA_GERACAO', 'HORA_GERACAO', 'ANO_ELEICAO',\n",
       "       'DESCRICAO_ELEICAO', 'SIGLA_UF', 'SEQUENCIAL_CANDIDATO',\n",
       "       'CD_TIPO_BEM_CANDIDATO', 'DS_TIPO_BEM_CANDIDATO', 'DETALHE_BEM',\n",
       "       'VALOR_BEM', 'DATA_ULTIMA_ATUALIZACAO', 'HORA_ULTIMA_ATUALIZACAO',\n",
       "       'ID_CANDIDATO', 'SIGLA_UE', 'CODIGO_CARGO', 'DESCRICAO_CARGO',\n",
       "       'NUMERO_PARTIDO', 'SIGLA_PARTIDO', 'NOME_CANDIDATO', 'NUMERO_CANDIDATO',\n",
       "       'CPF_CANDIDATO', 'NUM_TITULO_ELEITORAL_CANDIDATO'],\n",
       "      dtype='object')"
      ]
     },
     "execution_count": 10,
     "metadata": {},
     "output_type": "execute_result"
    }
   ],
   "source": [
    "# Exibe o nome de todas as colunas\n",
    "elections.columns\n"
   ]
  },
  {
   "cell_type": "code",
   "execution_count": 11,
   "metadata": {
    "pycharm": {
     "name": "#%%\n"
    }
   },
   "outputs": [],
   "source": [
    "# Filtro para exibir registros (contém todas as colunas) onde a 'SIGLA_UF' seja apenas 'SP' e 'DESCRICAO_CARGO' seja 'GOVERNADOR'\n",
    "filter_elections_governors = elections[(elections[\"SIGLA_UF\"] == \"SP\") & (elections[\"DESCRICAO_CARGO\"] == \"GOVERNADOR\")]\n"
   ]
  },
  {
   "cell_type": "code",
   "execution_count": 12,
   "metadata": {
    "pycharm": {
     "name": "#%%\n"
    }
   },
   "outputs": [
    {
     "data": {
      "text/html": [
       "<div>\n",
       "<style scoped>\n",
       "    .dataframe tbody tr th:only-of-type {\n",
       "        vertical-align: middle;\n",
       "    }\n",
       "\n",
       "    .dataframe tbody tr th {\n",
       "        vertical-align: top;\n",
       "    }\n",
       "\n",
       "    .dataframe thead th {\n",
       "        text-align: right;\n",
       "    }\n",
       "</style>\n",
       "<table border=\"1\" class=\"dataframe\">\n",
       "  <thead>\n",
       "    <tr style=\"text-align: right;\">\n",
       "      <th></th>\n",
       "      <th>DATA_GERACAO</th>\n",
       "      <th>ANO_ELEICAO</th>\n",
       "      <th>DESCRICAO_ELEICAO</th>\n",
       "      <th>SIGLA_UF</th>\n",
       "      <th>DESCRICAO_CARGO</th>\n",
       "      <th>SIGLA_PARTIDO</th>\n",
       "      <th>NOME_CANDIDATO</th>\n",
       "      <th>CPF_CANDIDATO</th>\n",
       "      <th>DETALHE_BEM</th>\n",
       "      <th>VALOR_BEM</th>\n",
       "    </tr>\n",
       "  </thead>\n",
       "  <tbody>\n",
       "    <tr>\n",
       "      <th>71934</th>\n",
       "      <td>07/11/2018</td>\n",
       "      <td>2010</td>\n",
       "      <td>ELEIÇÕES 2010</td>\n",
       "      <td>SP</td>\n",
       "      <td>GOVERNADOR</td>\n",
       "      <td>PT</td>\n",
       "      <td>ALOIZIO MERCADANTE OLIVA</td>\n",
       "      <td>96333731820</td>\n",
       "      <td>BANCO SANTANDER CONTA CORRENTE 012313-4 - AGÊN...</td>\n",
       "      <td>1.260,77</td>\n",
       "    </tr>\n",
       "    <tr>\n",
       "      <th>71935</th>\n",
       "      <td>07/11/2018</td>\n",
       "      <td>2010</td>\n",
       "      <td>ELEIÇÕES 2010</td>\n",
       "      <td>SP</td>\n",
       "      <td>GOVERNADOR</td>\n",
       "      <td>PT</td>\n",
       "      <td>ALOIZIO MERCADANTE OLIVA</td>\n",
       "      <td>96333731820</td>\n",
       "      <td>BANCO DO BRASIL CONTA 12287-4 - AG. 4884-4</td>\n",
       "      <td>82,75</td>\n",
       "    </tr>\n",
       "    <tr>\n",
       "      <th>71936</th>\n",
       "      <td>07/11/2018</td>\n",
       "      <td>2010</td>\n",
       "      <td>ELEIÇÕES 2010</td>\n",
       "      <td>SP</td>\n",
       "      <td>GOVERNADOR</td>\n",
       "      <td>PT</td>\n",
       "      <td>ALOIZIO MERCADANTE OLIVA</td>\n",
       "      <td>96333731820</td>\n",
       "      <td>BANCO SANTANDER, FIC FI CLASSIC DI</td>\n",
       "      <td>2.558,28</td>\n",
       "    </tr>\n",
       "    <tr>\n",
       "      <th>71937</th>\n",
       "      <td>07/11/2018</td>\n",
       "      <td>2010</td>\n",
       "      <td>ELEIÇÕES 2010</td>\n",
       "      <td>SP</td>\n",
       "      <td>GOVERNADOR</td>\n",
       "      <td>PT</td>\n",
       "      <td>ALOIZIO MERCADANTE OLIVA</td>\n",
       "      <td>96333731820</td>\n",
       "      <td>NISSAM - MODELO XTERRA 2.8, DIESEL ANO DE FABR...</td>\n",
       "      <td>89.500,00</td>\n",
       "    </tr>\n",
       "    <tr>\n",
       "      <th>71938</th>\n",
       "      <td>07/11/2018</td>\n",
       "      <td>2010</td>\n",
       "      <td>ELEIÇÕES 2010</td>\n",
       "      <td>SP</td>\n",
       "      <td>GOVERNADOR</td>\n",
       "      <td>PT</td>\n",
       "      <td>ALOIZIO MERCADANTE OLIVA</td>\n",
       "      <td>96333731820</td>\n",
       "      <td>SÍTIO ADQUIRIDO EM 28/05/1996 NO MUNICÍPIO DE ...</td>\n",
       "      <td>48.000,00</td>\n",
       "    </tr>\n",
       "    <tr>\n",
       "      <th>...</th>\n",
       "      <td>...</td>\n",
       "      <td>...</td>\n",
       "      <td>...</td>\n",
       "      <td>...</td>\n",
       "      <td>...</td>\n",
       "      <td>...</td>\n",
       "      <td>...</td>\n",
       "      <td>...</td>\n",
       "      <td>...</td>\n",
       "      <td>...</td>\n",
       "    </tr>\n",
       "    <tr>\n",
       "      <th>253088</th>\n",
       "      <td>13/04/2019</td>\n",
       "      <td>2018</td>\n",
       "      <td>Eleições Gerais Estaduais 2018</td>\n",
       "      <td>SP</td>\n",
       "      <td>GOVERNADOR</td>\n",
       "      <td>PDT</td>\n",
       "      <td>MARCELO DE SOUZA CANDIDO</td>\n",
       "      <td>10857067885</td>\n",
       "      <td>APARTAMENTO 111 LOCALIZADO NA RUA XV DE NOVEMB...</td>\n",
       "      <td>400.000,00</td>\n",
       "    </tr>\n",
       "    <tr>\n",
       "      <th>253833</th>\n",
       "      <td>13/04/2019</td>\n",
       "      <td>2018</td>\n",
       "      <td>Eleições Gerais Estaduais 2018</td>\n",
       "      <td>SP</td>\n",
       "      <td>GOVERNADOR</td>\n",
       "      <td>PT</td>\n",
       "      <td>LUIZ MARINHO</td>\n",
       "      <td>00884851885</td>\n",
       "      <td>#NULO#</td>\n",
       "      <td>5.000,00</td>\n",
       "    </tr>\n",
       "    <tr>\n",
       "      <th>253834</th>\n",
       "      <td>13/04/2019</td>\n",
       "      <td>2018</td>\n",
       "      <td>Eleições Gerais Estaduais 2018</td>\n",
       "      <td>SP</td>\n",
       "      <td>GOVERNADOR</td>\n",
       "      <td>PT</td>\n",
       "      <td>LUIZ MARINHO</td>\n",
       "      <td>00884851885</td>\n",
       "      <td>#NULO#</td>\n",
       "      <td>34.520,00</td>\n",
       "    </tr>\n",
       "    <tr>\n",
       "      <th>253835</th>\n",
       "      <td>13/04/2019</td>\n",
       "      <td>2018</td>\n",
       "      <td>Eleições Gerais Estaduais 2018</td>\n",
       "      <td>SP</td>\n",
       "      <td>GOVERNADOR</td>\n",
       "      <td>PT</td>\n",
       "      <td>LUIZ MARINHO</td>\n",
       "      <td>00884851885</td>\n",
       "      <td>#NULO#</td>\n",
       "      <td>15.000,00</td>\n",
       "    </tr>\n",
       "    <tr>\n",
       "      <th>253836</th>\n",
       "      <td>13/04/2019</td>\n",
       "      <td>2018</td>\n",
       "      <td>Eleições Gerais Estaduais 2018</td>\n",
       "      <td>SP</td>\n",
       "      <td>GOVERNADOR</td>\n",
       "      <td>PT</td>\n",
       "      <td>LUIZ MARINHO</td>\n",
       "      <td>00884851885</td>\n",
       "      <td>#NULO#</td>\n",
       "      <td>10.000,00</td>\n",
       "    </tr>\n",
       "  </tbody>\n",
       "</table>\n",
       "<p>242 rows × 10 columns</p>\n",
       "</div>"
      ],
      "text/plain": [
       "       DATA_GERACAO ANO_ELEICAO               DESCRICAO_ELEICAO SIGLA_UF  \\\n",
       "71934    07/11/2018        2010                   ELEIÇÕES 2010       SP   \n",
       "71935    07/11/2018        2010                   ELEIÇÕES 2010       SP   \n",
       "71936    07/11/2018        2010                   ELEIÇÕES 2010       SP   \n",
       "71937    07/11/2018        2010                   ELEIÇÕES 2010       SP   \n",
       "71938    07/11/2018        2010                   ELEIÇÕES 2010       SP   \n",
       "...             ...         ...                             ...      ...   \n",
       "253088   13/04/2019        2018  Eleições Gerais Estaduais 2018       SP   \n",
       "253833   13/04/2019        2018  Eleições Gerais Estaduais 2018       SP   \n",
       "253834   13/04/2019        2018  Eleições Gerais Estaduais 2018       SP   \n",
       "253835   13/04/2019        2018  Eleições Gerais Estaduais 2018       SP   \n",
       "253836   13/04/2019        2018  Eleições Gerais Estaduais 2018       SP   \n",
       "\n",
       "       DESCRICAO_CARGO SIGLA_PARTIDO            NOME_CANDIDATO CPF_CANDIDATO  \\\n",
       "71934       GOVERNADOR            PT  ALOIZIO MERCADANTE OLIVA   96333731820   \n",
       "71935       GOVERNADOR            PT  ALOIZIO MERCADANTE OLIVA   96333731820   \n",
       "71936       GOVERNADOR            PT  ALOIZIO MERCADANTE OLIVA   96333731820   \n",
       "71937       GOVERNADOR            PT  ALOIZIO MERCADANTE OLIVA   96333731820   \n",
       "71938       GOVERNADOR            PT  ALOIZIO MERCADANTE OLIVA   96333731820   \n",
       "...                ...           ...                       ...           ...   \n",
       "253088      GOVERNADOR           PDT  MARCELO DE SOUZA CANDIDO   10857067885   \n",
       "253833      GOVERNADOR            PT              LUIZ MARINHO   00884851885   \n",
       "253834      GOVERNADOR            PT              LUIZ MARINHO   00884851885   \n",
       "253835      GOVERNADOR            PT              LUIZ MARINHO   00884851885   \n",
       "253836      GOVERNADOR            PT              LUIZ MARINHO   00884851885   \n",
       "\n",
       "                                              DETALHE_BEM   VALOR_BEM  \n",
       "71934   BANCO SANTANDER CONTA CORRENTE 012313-4 - AGÊN...    1.260,77  \n",
       "71935          BANCO DO BRASIL CONTA 12287-4 - AG. 4884-4       82,75  \n",
       "71936                  BANCO SANTANDER, FIC FI CLASSIC DI    2.558,28  \n",
       "71937   NISSAM - MODELO XTERRA 2.8, DIESEL ANO DE FABR...   89.500,00  \n",
       "71938   SÍTIO ADQUIRIDO EM 28/05/1996 NO MUNICÍPIO DE ...   48.000,00  \n",
       "...                                                   ...         ...  \n",
       "253088  APARTAMENTO 111 LOCALIZADO NA RUA XV DE NOVEMB...  400.000,00  \n",
       "253833                                             #NULO#    5.000,00  \n",
       "253834                                             #NULO#   34.520,00  \n",
       "253835                                             #NULO#   15.000,00  \n",
       "253836                                             #NULO#   10.000,00  \n",
       "\n",
       "[242 rows x 10 columns]"
      ]
     },
     "execution_count": 12,
     "metadata": {},
     "output_type": "execute_result"
    }
   ],
   "source": [
    "# Exibe todos os registros e bens declarados de cada candidato ao cargo de Governador de São Paulo nas eleições de 2010, 2014 e 2018\n",
    "filter_elections_governors.loc[:, ['DATA_GERACAO', 'ANO_ELEICAO', 'DESCRICAO_ELEICAO', 'SIGLA_UF',\n",
    "                                   'DESCRICAO_CARGO', 'SIGLA_PARTIDO', 'NOME_CANDIDATO', 'CPF_CANDIDATO',\n",
    "                                   'DETALHE_BEM', 'VALOR_BEM']]\n"
   ]
  },
  {
   "cell_type": "code",
   "execution_count": 13,
   "metadata": {
    "pycharm": {
     "name": "#%%\n"
    }
   },
   "outputs": [
    {
     "data": {
      "text/plain": [
       "index                             0\n",
       "DATA_GERACAO                      0\n",
       "HORA_GERACAO                      0\n",
       "ANO_ELEICAO                       0\n",
       "DESCRICAO_ELEICAO                 0\n",
       "SIGLA_UF                          0\n",
       "SEQUENCIAL_CANDIDATO              0\n",
       "CD_TIPO_BEM_CANDIDATO             0\n",
       "DS_TIPO_BEM_CANDIDATO             0\n",
       "DETALHE_BEM                       0\n",
       "VALOR_BEM                         0\n",
       "DATA_ULTIMA_ATUALIZACAO           0\n",
       "HORA_ULTIMA_ATUALIZACAO           0\n",
       "ID_CANDIDATO                      0\n",
       "SIGLA_UE                          0\n",
       "CODIGO_CARGO                      0\n",
       "DESCRICAO_CARGO                   0\n",
       "NUMERO_PARTIDO                    0\n",
       "SIGLA_PARTIDO                     0\n",
       "NOME_CANDIDATO                    0\n",
       "NUMERO_CANDIDATO                  0\n",
       "CPF_CANDIDATO                     0\n",
       "NUM_TITULO_ELEITORAL_CANDIDATO    0\n",
       "dtype: int64"
      ]
     },
     "execution_count": 13,
     "metadata": {},
     "output_type": "execute_result"
    }
   ],
   "source": [
    "# Verifica a quantidade de null agregado por campo\n",
    "filter_elections_governors.isnull().sum()\n"
   ]
  },
  {
   "cell_type": "code",
   "execution_count": 14,
   "metadata": {
    "pycharm": {
     "name": "#%%\n"
    }
   },
   "outputs": [
    {
     "data": {
      "text/plain": [
       "index                             242\n",
       "DATA_GERACAO                      242\n",
       "HORA_GERACAO                      242\n",
       "ANO_ELEICAO                       242\n",
       "DESCRICAO_ELEICAO                 242\n",
       "SIGLA_UF                          242\n",
       "SEQUENCIAL_CANDIDATO              242\n",
       "CD_TIPO_BEM_CANDIDATO             242\n",
       "DS_TIPO_BEM_CANDIDATO             242\n",
       "DETALHE_BEM                       242\n",
       "VALOR_BEM                         242\n",
       "DATA_ULTIMA_ATUALIZACAO           242\n",
       "HORA_ULTIMA_ATUALIZACAO           242\n",
       "ID_CANDIDATO                      242\n",
       "SIGLA_UE                          242\n",
       "CODIGO_CARGO                      242\n",
       "DESCRICAO_CARGO                   242\n",
       "NUMERO_PARTIDO                    242\n",
       "SIGLA_PARTIDO                     242\n",
       "NOME_CANDIDATO                    242\n",
       "NUMERO_CANDIDATO                  242\n",
       "CPF_CANDIDATO                     242\n",
       "NUM_TITULO_ELEITORAL_CANDIDATO    242\n",
       "dtype: int64"
      ]
     },
     "execution_count": 14,
     "metadata": {},
     "output_type": "execute_result"
    }
   ],
   "source": [
    "filter_elections_governors.notnull().sum()\n"
   ]
  },
  {
   "cell_type": "code",
   "execution_count": 15,
   "metadata": {},
   "outputs": [],
   "source": [
    "bens_candidatos_2018 = copy.deepcopy(filter_elections2018)\n",
    "bens_candidatos_2018[\"VALOR_BEM\"] = bens_candidatos_2018[\"VALOR_BEM\"].map(atof)\n"
   ]
  },
  {
   "cell_type": "code",
   "execution_count": 16,
   "metadata": {
    "pycharm": {
     "name": "#%%\n"
    }
   },
   "outputs": [
    {
     "data": {
      "text/plain": [
       "NOME_CANDIDATO                       CPF_CANDIDATO  SIGLA_PARTIDO\n",
       "JOÃO AGRIPINO DA COSTA DORIA JUNIOR  94062897849    PSDB            R$ 189859904,76\n",
       "MAURO MENDES FERREIRA                30436230100    DEM             R$ 113453806,96\n",
       "IBANEIS ROCHA BARROS JUNIOR          53942590115    MDB              R$ 92520602,57\n",
       "MARCELO FERNANDEZ TRINDADE           77678524749    NOVO             R$ 82956391,33\n",
       "ROMEU ZEMA NETO                      44906161634    NOVO             R$ 69752863,96\n",
       "                                                                          ...      \n",
       "TARCISIO MOTTA DE CARVALHO           02045962709    PSOL                R$ 10000,00\n",
       "GIANFRANCO GUSMÃO DE AZEVEDO         41591364272    PSTU                 R$ 8000,00\n",
       "SEVERINA DOS RAMOS SILVA DANTAS      95383026487    PSTU                 R$ 8000,00\n",
       "SIMONE FONTANA                       48393258472    PSTU                 R$ 5000,00\n",
       "FRANCISCO RAIMUNDO DE FREITAS        06882829462    REDE                 R$ 1103,20\n",
       "Name: VALOR_BEM, Length: 183, dtype: float64"
      ]
     },
     "execution_count": 16,
     "metadata": {},
     "output_type": "execute_result"
    }
   ],
   "source": [
    "# Soma e exibe o valor total dos bens declarados por cada candidato nas eleições de 2018\n",
    "bens_candidatos_2018.groupby([\"NOME_CANDIDATO\", \"CPF_CANDIDATO\", \"SIGLA_PARTIDO\"])[\"VALOR_BEM\"].sum().sort_values(ascending=False)\n"
   ]
  },
  {
   "cell_type": "code",
   "execution_count": 17,
   "metadata": {},
   "outputs": [
    {
     "data": {
      "image/png": "[encoded data removed]",
      "text/plain": [
       "<Figure size 432x288 with 1 Axes>"
      ]
     },
     "metadata": {
      "needs_background": "light"
     },
     "output_type": "display_data"
    }
   ],
   "source": [
    "# Grafico com os 10 candidatos com maior valor em bens declarados do país\n",
    "bens_candidatos = bens_candidatos_2018.groupby([\"NOME_CANDIDATO\", \"SIGLA_PARTIDO\", \"SIGLA_UF\"])[\"VALOR_BEM\"].max().sort_values().tail(10).plot(kind='barh', title=\"10 maiores valores de bens declarados\")\n"
   ]
  },
  {
   "cell_type": "code",
   "execution_count": 18,
   "metadata": {},
   "outputs": [],
   "source": [
    "# Agrupa os bens declarados dos candidados por partido\n",
    "avg_bens_candidatos_2018 = bens_candidatos_2018.groupby([\"SIGLA_PARTIDO\"])[\"VALOR_BEM\"].agg('mean')\n"
   ]
  },
  {
   "cell_type": "code",
   "execution_count": 19,
   "metadata": {
    "pycharm": {
     "name": "#%%\n"
    }
   },
   "outputs": [
    {
     "data": {
      "text/plain": [
       "SIGLA_PARTIDO\n",
       "NOVO            R$ 1918081,90\n",
       "PSDB            R$ 1791893,17\n",
       "PTB             R$ 1707705,18\n",
       "DEM             R$ 1012407,15\n",
       "MDB              R$ 589892,19\n",
       "PROS             R$ 486337,85\n",
       "PSD              R$ 349655,24\n",
       "PR               R$ 289834,34\n",
       "SOLIDARIEDADE    R$ 288859,19\n",
       "PSB              R$ 264863,61\n",
       "PHS              R$ 258047,84\n",
       "PTC              R$ 210458,53\n",
       "PRTB             R$ 209049,10\n",
       "PODE             R$ 206125,68\n",
       "PMB              R$ 170000,00\n",
       "AVANTE           R$ 167800,00\n",
       "PSOL             R$ 165574,99\n",
       "PDT              R$ 153028,65\n",
       "PCO              R$ 151285,71\n",
       "PP               R$ 151015,09\n",
       "PMN              R$ 145071,60\n",
       "PSL              R$ 144350,78\n",
       "PATRI            R$ 123919,15\n",
       "REDE             R$ 113279,07\n",
       "PT               R$ 108306,69\n",
       "PV               R$ 107184,18\n",
       "DC               R$ 101666,67\n",
       "PC do B           R$ 85488,59\n",
       "PSC               R$ 76660,54\n",
       "PSTU              R$ 73855,70\n",
       "PCB               R$ 67229,88\n",
       "PRP               R$ 30424,57\n",
       "Name: VALOR_BEM, dtype: float64"
      ]
     },
     "execution_count": 19,
     "metadata": {},
     "output_type": "execute_result"
    }
   ],
   "source": [
    "# Média de bens declarados por partido nas eleições de 2018 em ordem decrescente\n",
    "avg_bens_candidatos_2018.sort_values(ascending=False)\n"
   ]
  },
  {
   "cell_type": "code",
   "execution_count": 23,
   "metadata": {
    "pycharm": {
     "name": "#%%\n"
    }
   },
   "outputs": [
    {
     "data": {
      "image/png": "[encoded data removed]",
      "text/plain": [
       "<Figure size 1440x720 with 1 Axes>"
      ]
     },
     "metadata": {
      "needs_background": "light"
     },
     "output_type": "display_data"
    }
   ],
   "source": [
    "# Plota gráfico com bens declarados por partido nas eleições de 2018\n",
    "avg_bens_candidatos_2018.sort_values(ascending=False).plot(kind='bar', figsize=(20, 10))\n",
    "plt.title(\"Média de bens declarados por partido nas eleições de 2018\", fontsize=15)\n",
    "plt.xlabel(\"SIGLA DO PARTIDO\", fontsize=15)\n",
    "plt.ylabel(\"Média em milhões de reais\", fontsize=20)\n",
    "plt.show()\n"
   ]
  },
  {
   "cell_type": "code",
   "execution_count": 21,
   "metadata": {
    "pycharm": {
     "name": "#%%\n"
    }
   },
   "outputs": [
    {
     "data": {
      "image/png": "[encoded data removed]",
      "text/plain": [
       "<Figure size 1440x720 with 1 Axes>"
      ]
     },
     "metadata": {
      "needs_background": "light"
     },
     "output_type": "display_data"
    }
   ],
   "source": [
    "# Soma o valor total dos bens declarados dos candidatos de cada partido agrupados por partido\n",
    "total_bens_candidatos_2018 = bens_candidatos_2018.groupby([\"SIGLA_PARTIDO\"])[\"VALOR_BEM\"].sum()\n",
    "total_bens_candidatos_2018.sort_values(ascending=False)\n"
   ]
  },
  {
   "cell_type": "code",
   "execution_count": null,
   "metadata": {
    "pycharm": {
     "name": "#%%\n"
    }
   },
   "outputs": [],
   "source": [
    "# Gráfico com os valor total dos bens declarados pelos candidatos e agrupados por partido nas eleições de 2018\n",
    "total_bens_candidatos_2018.sort_values(ascending=True).plot(kind='bar', figsize=(20, 10))\n",
    "plt.title(\"Total de bens declarados por partido nas eleições de 2018\", fontsize=15)\n",
    "plt.xlabel(\"SIGLA DO PARTIDO\", fontsize=15)\n",
    "plt.ylabel(\"Total em milhões de reais\", fontsize=20)\n",
    "plt.show()\n"
   ]
  },
  {
   "cell_type": "code",
   "execution_count": null,
   "outputs": [],
   "source": [],
   "metadata": {
    "collapsed": false,
    "pycharm": {
     "name": "#%%\n"
    }
   }
  },
  {
   "cell_type": "code",
   "execution_count": null,
   "metadata": {},
   "outputs": [],
   "source": []
  }
 ],
 "metadata": {
  "kernelspec": {
   "display_name": "Python 3",
   "language": "python",
   "name": "python3"
  },
  "language_info": {
   "codemirror_mode": {
    "name": "ipython",
    "version": 3
   },
   "file_extension": ".py",
   "mimetype": "text/x-python",
   "name": "python",
   "nbconvert_exporter": "python",
   "pygments_lexer": "ipython3",
   "version": "3.8.5"
  }
 },
 "nbformat": 4,
 "nbformat_minor": 1
}