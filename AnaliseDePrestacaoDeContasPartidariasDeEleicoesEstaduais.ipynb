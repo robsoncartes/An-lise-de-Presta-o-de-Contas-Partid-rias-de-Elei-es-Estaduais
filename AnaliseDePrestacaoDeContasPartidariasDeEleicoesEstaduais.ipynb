{
 "cells": [
  {
   "cell_type": "markdown",
   "source": [
    "### Análise de Prestação de Contas Partidárias de Eleições Estaduais"
   ],
   "metadata": {
    "collapsed": false
   }
  },
  {
   "cell_type": "code",
   "execution_count": null,
   "outputs": [],
   "source": [
    "# Importação das libs\n",
    "import locale\n",
    "import copy\n",
    "from locale import atof\n",
    "import electionsBR as api\n",
    "import pandas as pd\n"
   ],
   "metadata": {
    "collapsed": false,
    "pycharm": {
     "name": "#%%\n"
    }
   }
  },
  {
   "cell_type": "code",
   "execution_count": null,
   "outputs": [],
   "source": [
    "# Ajuste de formatação\n",
    "locale.setlocale(locale.LC_ALL, 'pt_BR.UTF-8')\n",
    "pd.set_option(\"float_format\", locale.currency)\n",
    "# linha em branco adicional ao fim de cada célula facilta para no momento de execução de cada célula pelo Jupyter (Shift + Enter)\n"
   ],
   "metadata": {
    "collapsed": false,
    "pycharm": {
     "name": "#%%\n"
    }
   }
  },
  {
   "cell_type": "code",
   "execution_count": null,
   "outputs": [],
   "source": [
    "# Leitura dos dados dos bens declarados para um determinado cargo (presidente, governador, senador, deputado federal, deputado estadual, prefeito, vereador)\n",
    "\n",
    "elections2010 = api.get_assets(year=2010, position=\"governador\")\n",
    "elections2014 = api.get_assets(year=2014, position=\"governador\")\n",
    "elections2018 = api.get_assets(year=2018, position=\"governador\")\n"
   ],
   "metadata": {
    "collapsed": false,
    "pycharm": {
     "name": "#%%\n"
    }
   }
  },
  {
   "cell_type": "code",
   "execution_count": null,
   "outputs": [],
   "source": [
    "# Filtro para exibir registros (contém todas as colunas) onde a 'SIGLA_UF' seja apenas 'SP' ou 'RJ' e DESCRICAO_CARGO seja 'GOVERNADOR'\n",
    "filter_elections2010 = elections2010[(elections2010[\"DESCRICAO_CARGO\"] == \"GOVERNADOR\")]\n",
    "filter_elections2014 = elections2014[(elections2014[\"DESCRICAO_CARGO\"] == \"GOVERNADOR\")]\n",
    "filter_elections2018 = elections2018[(elections2018[\"DESCRICAO_CARGO\"] == \"GOVERNADOR\")]\n"
   ],
   "metadata": {
    "collapsed": false,
    "pycharm": {
     "name": "#%%\n"
    }
   }
  },
  {
   "cell_type": "code",
   "execution_count": null,
   "outputs": [],
   "source": [
    "filter_elections2010.sample(5)\n"
   ],
   "metadata": {
    "collapsed": false,
    "pycharm": {
     "name": "#%%\n"
    }
   }
  },
  {
   "cell_type": "code",
   "execution_count": null,
   "outputs": [],
   "source": [
    "# Exbibe os registros com uma lista de colunas pré-definidas\n",
    "elections2010.loc[:, ['DATA_GERACAO', 'ANO_ELEICAO', 'DESCRICAO_ELEICAO', 'SIGLA_UF', 'DESCRICAO_CARGO',\n",
    "                     'SIGLA_PARTIDO', 'NOME_CANDIDATO', 'CPF_CANDIDATO']].sample(5)\n"
   ],
   "metadata": {
    "collapsed": false,
    "pycharm": {
     "name": "#%%\n"
    }
   }
  },
  {
   "cell_type": "code",
   "execution_count": null,
   "outputs": [],
   "source": [
    "# Utiliza o filtro e exibi os primeiros registros com as colunas desejadas e que satisfazem a condição (DESCRICAO_CARGO == 'GOVERNADOR')\n",
    "filter_elections2010.loc[:, ['DATA_GERACAO', 'ANO_ELEICAO', 'DESCRICAO_ELEICAO', 'SIGLA_UF', 'DESCRICAO_CARGO',\n",
    "                     'SIGLA_PARTIDO', 'NOME_CANDIDATO', 'CPF_CANDIDATO', 'DETALHE_BEM', 'VALOR_BEM']].head()\n",
    "\n"
   ],
   "metadata": {
    "collapsed": false,
    "pycharm": {
     "name": "#%%\n"
    }
   }
  },
  {
   "cell_type": "code",
   "execution_count": null,
   "outputs": [],
   "source": [
    "# Utiliza o filtro para exibir os últimos registros e as colunas desejadas de acordo com o indice correspondente de cada coluna\n",
    "filter_elections2010.iloc[:, [0, 2, 3, 4, 15, 17, 18, 20, 8, 9]].tail()\n"
   ],
   "metadata": {
    "collapsed": false,
    "pycharm": {
     "name": "#%%\n"
    }
   }
  },
  {
   "cell_type": "code",
   "execution_count": null,
   "outputs": [],
   "source": [
    "elections = pd.concat([elections2010, elections2014])\n",
    "elections = pd.concat([elections, elections2018])\n",
    "elections.reset_index(inplace=True)\n"
   ],
   "metadata": {
    "collapsed": false,
    "pycharm": {
     "name": "#%%\n"
    }
   }
  },
  {
   "cell_type": "code",
   "execution_count": null,
   "outputs": [],
   "source": [
    "# Exibe o nome de todas as colunas\n",
    "elections.columns\n"
   ],
   "metadata": {
    "collapsed": false,
    "pycharm": {
     "name": "#%%\n"
    }
   }
  },
  {
   "cell_type": "code",
   "execution_count": null,
   "outputs": [],
   "source": [
    "# Filtro para exibir registros (contém todas as colunas) onde a 'SIGLA_UF' seja apenas 'SP' e 'DESCRICAO_CARGO' seja 'GOVERNADOR'\n",
    "elections_governor_sp_filter = elections[(elections[\"SIGLA_UF\"] == \"SP\") & (elections[\"DESCRICAO_CARGO\"] == \"GOVERNADOR\")]\n",
    "\n",
    "# Exibe todos os registros e bens declarados de cada candidato ao cargo de Governador de São Paulo nas eleições de 2010, 2014 e 2018\n",
    "elections_governor_sp_filter.loc[:, ['DATA_GERACAO', 'ANO_ELEICAO', 'DESCRICAO_ELEICAO', 'SIGLA_UF',\n",
    "                                   'DESCRICAO_CARGO', 'SIGLA_PARTIDO', 'NOME_CANDIDATO', 'CPF_CANDIDATO',\n",
    "                                   'DETALHE_BEM', 'VALOR_BEM']]"
   ],
   "metadata": {
    "collapsed": false,
    "pycharm": {
     "name": "#%%\n"
    }
   }
  },
  {
   "cell_type": "code",
   "execution_count": null,
   "outputs": [],
   "source": [
    "# Verifica a quantidade de null agregado por campo\n",
    "elections_governor_sp_filter.isnull().sum()\n"
   ],
   "metadata": {
    "collapsed": false,
    "pycharm": {
     "name": "#%%\n"
    }
   }
  },
  {
   "cell_type": "code",
   "execution_count": null,
   "outputs": [],
   "source": [
    "elections_governor_sp_filter.notnull().sum()"
   ],
   "metadata": {
    "collapsed": false,
    "pycharm": {
     "name": "#%%\n"
    }
   }
  },
  {
   "cell_type": "code",
   "execution_count": null,
   "outputs": [],
   "source": [
    "# Soma do valor total de bens declarados por cada candidato antes das eleições de 2018\n",
    "total_bens_2018 = copy.deepcopy(filter_elections2018)\n",
    "total_bens_2018[\"VALOR_BEM\"] = total_bens_2018[\"VALOR_BEM\"].map(atof)\n",
    "# bens_number_2018[\"VALOR_BEM\"] = pd.to_numeric(bens_number_2018[\"VALOR_BEM\"])\n",
    "# bens_number_2018.groupby(\"CPF_CANDIDATO\")[\"VALOR_BEM\"].sum().sort_values(ascending=False)\n"
   ],
   "metadata": {
    "collapsed": false,
    "pycharm": {
     "name": "#%%\n"
    }
   }
  },
  {
   "cell_type": "code",
   "execution_count": null,
   "outputs": [],
   "source": [
    "total_bens_2018.groupby([\"NOME_CANDIDATO\", \"CPF_CANDIDATO\", \"DESCRICAO_CARGO\", \"SIGLA_UF\"])[\"VALOR_BEM\"].sum().sort_values(ascending=False)"
   ],
   "metadata": {
    "collapsed": false,
    "pycharm": {
     "name": "#%%\n"
    }
   }
  },
  {
   "cell_type": "code",
   "execution_count": null,
   "outputs": [],
   "source": [
    "# Grafico com os 10 candidatos com maior valor em bens declarados do país\n",
    "total_bens_2018.groupby([\"NOME_CANDIDATO\", \"SIGLA_PARTIDO\", \"SIGLA_UF\"])[\"VALOR_BEM\"].sum().sort_values().tail(10).plot(kind='barh', title=\"10 maiores valores de bens declarados\")\n"
   ],
   "metadata": {
    "collapsed": false,
    "pycharm": {
     "name": "#%%\n"
    }
   }
  },
  {
   "cell_type": "code",
   "execution_count": null,
   "outputs": [],
   "source": [],
   "metadata": {
    "collapsed": false,
    "pycharm": {
     "name": "#%%\n"
    }
   }
  }
 ],
 "metadata": {
  "kernelspec": {
   "display_name": "Python 3",
   "language": "python",
   "name": "python3"
  },
  "language_info": {
   "codemirror_mode": {
    "name": "ipython",
    "version": 3
   },
   "file_extension": ".py",
   "mimetype": "text/x-python",
   "name": "python",
   "nbconvert_exporter": "python",
   "pygments_lexer": "ipython3",
   "version": "3.8.6-final"
  }
 },
 "nbformat": 4,
 "nbformat_minor": 1
}