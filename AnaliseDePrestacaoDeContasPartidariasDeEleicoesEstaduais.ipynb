{
 "cells": [
  {
   "cell_type": "markdown",
   "metadata": {
    "pycharm": {
     "name": "#%% md\n"
    }
   },
   "source": [
    "### Análise de Prestação de Contas Partidárias de Eleições Estaduais"
   ]
  },
  {
   "cell_type": "code",
   "execution_count": 31,
   "metadata": {
    "pycharm": {
     "name": "#%%\n"
    }
   },
   "outputs": [],
   "source": [
    "# Importação das libs\n",
    "import copy\n",
    "import locale\n",
    "from locale import atof\n",
    "import electionsBR as api\n",
    "import pandas as pd"
   ]
  },
  {
   "cell_type": "code",
   "execution_count": 32,
   "metadata": {},
   "outputs": [],
   "source": [
    "# Ajuste de formatação\n",
    "locale.setlocale(locale.LC_ALL, 'pt_BR.UTF-8')\n",
    "pd.set_option(\"float_format\", locale.currency)\n",
    "#pd.set_option('display.float_format', lambda x: '%,.2f' % x)"
   ]
  },
  {
   "cell_type": "code",
   "execution_count": 48,
   "metadata": {
    "pycharm": {
     "name": "#%%\n"
    }
   },
   "outputs": [],
   "source": [
    "# Leitura dos dados dos bens declarados para um determinado cargo (presidente, governador, senador, deputado federal, deputado estadual, prefeito, vereador)\n",
    "bens = api.get_assets(year = 2018, position=\"governador\", state = \"SP\")"
   ]
  },
  {
   "cell_type": "code",
   "execution_count": 49,
   "metadata": {},
   "outputs": [
    {
     "output_type": "execute_result",
     "data": {
      "text/plain": [
       "(13403, 22)"
      ]
     },
     "metadata": {},
     "execution_count": 49
    }
   ],
   "source": [
    "# Informações sobre os dados retornados (Linhas, Colunas)\n",
    "bens.shape"
   ]
  },
  {
   "cell_type": "code",
   "execution_count": 35,
   "metadata": {},
   "outputs": [
    {
     "output_type": "stream",
     "name": "stdout",
     "text": [
      "<class 'pandas.core.frame.DataFrame'>\nRangeIndex: 13403 entries, 0 to 13402\nData columns (total 22 columns):\n #   Column                          Non-Null Count  Dtype \n---  ------                          --------------  ----- \n 0   DATA_GERACAO                    13403 non-null  object\n 1   HORA_GERACAO                    13403 non-null  object\n 2   ANO_ELEICAO                     13403 non-null  object\n 3   DESCRICAO_ELEICAO               13403 non-null  object\n 4   SIGLA_UF                        13403 non-null  object\n 5   SEQUENCIAL_CANDIDATO            13403 non-null  object\n 6   CD_TIPO_BEM_CANDIDATO           13403 non-null  object\n 7   DS_TIPO_BEM_CANDIDATO           13403 non-null  object\n 8   DETALHE_BEM                     13403 non-null  object\n 9   VALOR_BEM                       13403 non-null  object\n 10  DATA_ULTIMA_ATUALIZACAO         13403 non-null  object\n 11  HORA_ULTIMA_ATUALIZACAO         13403 non-null  object\n 12  ID_CANDIDATO                    13403 non-null  object\n 13  SIGLA_UE                        13383 non-null  object\n 14  CODIGO_CARGO                    13383 non-null  object\n 15  DESCRICAO_CARGO                 13383 non-null  object\n 16  NUMERO_PARTIDO                  13383 non-null  object\n 17  SIGLA_PARTIDO                   13383 non-null  object\n 18  NOME_CANDIDATO                  13383 non-null  object\n 19  NUMERO_CANDIDATO                13383 non-null  object\n 20  CPF_CANDIDATO                   13383 non-null  object\n 21  NUM_TITULO_ELEITORAL_CANDIDATO  13383 non-null  object\ndtypes: object(22)\nmemory usage: 2.2+ MB\n"
     ]
    }
   ],
   "source": [
    "# Colunas disponiveis para analise\n",
    "bens.info()"
   ]
  },
  {
   "cell_type": "code",
   "execution_count": 42,
   "metadata": {},
   "outputs": [
    {
     "output_type": "execute_result",
     "data": {
      "text/plain": [
       "      DATA_GERACAO HORA_GERACAO ANO_ELEICAO               DESCRICAO_ELEICAO  \\\n",
       "1663    13/04/2019     19:06:57        2018  Eleições Gerais Estaduais 2018   \n",
       "4984    13/04/2019     19:06:57        2018  Eleições Gerais Estaduais 2018   \n",
       "11214   13/04/2019     19:06:57        2018  Eleições Gerais Estaduais 2018   \n",
       "11430   13/04/2019     19:06:57        2018  Eleições Gerais Estaduais 2018   \n",
       "12127   13/04/2019     19:06:57        2018  Eleições Gerais Estaduais 2018   \n",
       "\n",
       "      SIGLA_UF SEQUENCIAL_CANDIDATO CD_TIPO_BEM_CANDIDATO  \\\n",
       "1663        SP         250000602874                    11   \n",
       "4984        SP         250000605761                    41   \n",
       "11214       SP         250000619500                    15   \n",
       "11430       SP         250000623474                    21   \n",
       "12127       SP         250000623813                    21   \n",
       "\n",
       "                                   DS_TIPO_BEM_CANDIDATO  DETALHE_BEM  \\\n",
       "1663                                         Apartamento       #NULO#   \n",
       "4984                               Caderneta de poupança       #NULO#   \n",
       "11214                                   Sala ou conjunto       #NULO#   \n",
       "11430  Veículo automotor terrestre: caminhão, automóv...  AUTOMOVEL     \n",
       "12127  Veículo automotor terrestre: caminhão, automóv...       #NULO#   \n",
       "\n",
       "        VALOR_BEM  ... ID_CANDIDATO SIGLA_UE CODIGO_CARGO    DESCRICAO_CARGO  \\\n",
       "1663   166.053,22  ...     10012720       SP            6   DEPUTADO FEDERAL   \n",
       "4984    18.455,46  ...     10007417       SP            7  DEPUTADO ESTADUAL   \n",
       "11214   18.500,00  ...     10016173       SP            7  DEPUTADO ESTADUAL   \n",
       "11430   50.000,00  ...     10006585       SP            6   DEPUTADO FEDERAL   \n",
       "12127  178.000,00  ...     10013736       SP            7  DEPUTADO ESTADUAL   \n",
       "\n",
       "      NUMERO_PARTIDO SIGLA_PARTIDO          NOME_CANDIDATO NUMERO_CANDIDATO  \\\n",
       "1663              51         PATRI        LUIZ CARLOS MOTA             5103   \n",
       "4984              55           PSD   KARINA CARLA DA SILVA            55900   \n",
       "11214             22            PR    SERGIO ANTONIO DONHA            22133   \n",
       "11430             12           PDT      JOSE CARLOS OROSCO             1212   \n",
       "12127             19          PODE  PEDRO MASSAMI KIKUDOME            19123   \n",
       "\n",
       "      CPF_CANDIDATO NUM_TITULO_ELEITORAL_CANDIDATO  \n",
       "1663    88676501815                   045909010167  \n",
       "4984    17407113866                   162232190159  \n",
       "11214   03041714841                   037950960175  \n",
       "11430   27098424838                   253970790124  \n",
       "12127   00647487829                   080932040159  \n",
       "\n",
       "[5 rows x 22 columns]"
      ],
      "text/html": "<div>\n<style scoped>\n    .dataframe tbody tr th:only-of-type {\n        vertical-align: middle;\n    }\n\n    .dataframe tbody tr th {\n        vertical-align: top;\n    }\n\n    .dataframe thead th {\n        text-align: right;\n    }\n</style>\n<table border=\"1\" class=\"dataframe\">\n  <thead>\n    <tr style=\"text-align: right;\">\n      <th></th>\n      <th>DATA_GERACAO</th>\n      <th>HORA_GERACAO</th>\n      <th>ANO_ELEICAO</th>\n      <th>DESCRICAO_ELEICAO</th>\n      <th>SIGLA_UF</th>\n      <th>SEQUENCIAL_CANDIDATO</th>\n      <th>CD_TIPO_BEM_CANDIDATO</th>\n      <th>DS_TIPO_BEM_CANDIDATO</th>\n      <th>DETALHE_BEM</th>\n      <th>VALOR_BEM</th>\n      <th>...</th>\n      <th>ID_CANDIDATO</th>\n      <th>SIGLA_UE</th>\n      <th>CODIGO_CARGO</th>\n      <th>DESCRICAO_CARGO</th>\n      <th>NUMERO_PARTIDO</th>\n      <th>SIGLA_PARTIDO</th>\n      <th>NOME_CANDIDATO</th>\n      <th>NUMERO_CANDIDATO</th>\n      <th>CPF_CANDIDATO</th>\n      <th>NUM_TITULO_ELEITORAL_CANDIDATO</th>\n    </tr>\n  </thead>\n  <tbody>\n    <tr>\n      <th>1663</th>\n      <td>13/04/2019</td>\n      <td>19:06:57</td>\n      <td>2018</td>\n      <td>Eleições Gerais Estaduais 2018</td>\n      <td>SP</td>\n      <td>250000602874</td>\n      <td>11</td>\n      <td>Apartamento</td>\n      <td>#NULO#</td>\n      <td>166.053,22</td>\n      <td>...</td>\n      <td>10012720</td>\n      <td>SP</td>\n      <td>6</td>\n      <td>DEPUTADO FEDERAL</td>\n      <td>51</td>\n      <td>PATRI</td>\n      <td>LUIZ CARLOS MOTA</td>\n      <td>5103</td>\n      <td>88676501815</td>\n      <td>045909010167</td>\n    </tr>\n    <tr>\n      <th>4984</th>\n      <td>13/04/2019</td>\n      <td>19:06:57</td>\n      <td>2018</td>\n      <td>Eleições Gerais Estaduais 2018</td>\n      <td>SP</td>\n      <td>250000605761</td>\n      <td>41</td>\n      <td>Caderneta de poupança</td>\n      <td>#NULO#</td>\n      <td>18.455,46</td>\n      <td>...</td>\n      <td>10007417</td>\n      <td>SP</td>\n      <td>7</td>\n      <td>DEPUTADO ESTADUAL</td>\n      <td>55</td>\n      <td>PSD</td>\n      <td>KARINA CARLA DA SILVA</td>\n      <td>55900</td>\n      <td>17407113866</td>\n      <td>162232190159</td>\n    </tr>\n    <tr>\n      <th>11214</th>\n      <td>13/04/2019</td>\n      <td>19:06:57</td>\n      <td>2018</td>\n      <td>Eleições Gerais Estaduais 2018</td>\n      <td>SP</td>\n      <td>250000619500</td>\n      <td>15</td>\n      <td>Sala ou conjunto</td>\n      <td>#NULO#</td>\n      <td>18.500,00</td>\n      <td>...</td>\n      <td>10016173</td>\n      <td>SP</td>\n      <td>7</td>\n      <td>DEPUTADO ESTADUAL</td>\n      <td>22</td>\n      <td>PR</td>\n      <td>SERGIO ANTONIO DONHA</td>\n      <td>22133</td>\n      <td>03041714841</td>\n      <td>037950960175</td>\n    </tr>\n    <tr>\n      <th>11430</th>\n      <td>13/04/2019</td>\n      <td>19:06:57</td>\n      <td>2018</td>\n      <td>Eleições Gerais Estaduais 2018</td>\n      <td>SP</td>\n      <td>250000623474</td>\n      <td>21</td>\n      <td>Veículo automotor terrestre: caminhão, automóv...</td>\n      <td>AUTOMOVEL</td>\n      <td>50.000,00</td>\n      <td>...</td>\n      <td>10006585</td>\n      <td>SP</td>\n      <td>6</td>\n      <td>DEPUTADO FEDERAL</td>\n      <td>12</td>\n      <td>PDT</td>\n      <td>JOSE CARLOS OROSCO</td>\n      <td>1212</td>\n      <td>27098424838</td>\n      <td>253970790124</td>\n    </tr>\n    <tr>\n      <th>12127</th>\n      <td>13/04/2019</td>\n      <td>19:06:57</td>\n      <td>2018</td>\n      <td>Eleições Gerais Estaduais 2018</td>\n      <td>SP</td>\n      <td>250000623813</td>\n      <td>21</td>\n      <td>Veículo automotor terrestre: caminhão, automóv...</td>\n      <td>#NULO#</td>\n      <td>178.000,00</td>\n      <td>...</td>\n      <td>10013736</td>\n      <td>SP</td>\n      <td>7</td>\n      <td>DEPUTADO ESTADUAL</td>\n      <td>19</td>\n      <td>PODE</td>\n      <td>PEDRO MASSAMI KIKUDOME</td>\n      <td>19123</td>\n      <td>00647487829</td>\n      <td>080932040159</td>\n    </tr>\n  </tbody>\n</table>\n<p>5 rows × 22 columns</p>\n</div>"
     },
     "metadata": {},
     "execution_count": 42
    }
   ],
   "source": [
    "# Exibição de um pequena amostra\n",
    "bens.sample(5)"
   ]
  },
  {
   "cell_type": "code",
   "execution_count": 50,
   "metadata": {},
   "outputs": [
    {
     "output_type": "execute_result",
     "data": {
      "text/plain": [
       "CPF_CANDIDATO\n",
       "01654727822   R$ 1202006700,00\n",
       "08045481889   R$ 1018384000,00\n",
       "17250615890    R$ 600000000,00\n",
       "25569763813    R$ 340000000,00\n",
       "94062897849    R$ 189859904,76\n",
       "                    ...       \n",
       "43784174809            R$ 8,25\n",
       "01941114822            R$ 5,91\n",
       "19346311835            R$ 1,00\n",
       "94126259872            R$ 1,00\n",
       "06361791840            R$ 0,20\n",
       "Name: VALOR_BEM, Length: 2421, dtype: float64"
      ]
     },
     "metadata": {},
     "execution_count": 50
    }
   ],
   "source": [
    "# Soma do valor total de bens declarados por cada candidato\n",
    "bens_number = copy.deepcopy(bens)\n",
    "bens_number[\"VALOR_BEM\"] = bens_number[\"VALOR_BEM\"].map(atof)\n",
    "bens_number[\"VALOR_BEM\"] = pd.to_numeric(bens_number[\"VALOR_BEM\"])\n",
    "bens_number.groupby(\"CPF_CANDIDATO\")[\"VALOR_BEM\"].sum().sort_values(ascending=False)"
   ]
  },
  {
   "cell_type": "code",
   "execution_count": null,
   "metadata": {},
   "outputs": [],
   "source": []
  }
 ],
 "metadata": {
  "kernelspec": {
   "display_name": "Python 3",
   "language": "python",
   "name": "python3"
  },
  "language_info": {
   "codemirror_mode": {
    "name": "ipython",
    "version": 3
   },
   "file_extension": ".py",
   "mimetype": "text/x-python",
   "name": "python",
   "nbconvert_exporter": "python",
   "pygments_lexer": "ipython3",
   "version": "3.8.6-final"
  }
 },
 "nbformat": 4,
 "nbformat_minor": 1
}