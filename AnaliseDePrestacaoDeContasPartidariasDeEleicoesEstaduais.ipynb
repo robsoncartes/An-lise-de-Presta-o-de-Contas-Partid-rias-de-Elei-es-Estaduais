{
 "cells": [
  {
   "cell_type": "markdown",
   "metadata": {
    "pycharm": {
     "name": "#%% md\n"
    }
   },
   "source": [
    "### Análise de Prestação de Contas Partidárias de Eleições Estaduais"
   ]
  },
  {
   "cell_type": "code",
   "execution_count": 1,
   "metadata": {
    "pycharm": {
     "name": "#%%\n"
    }
   },
   "outputs": [],
   "source": [
    "import pandas as pd\n",
    "low_memory = False\n",
    "%matplotlib inline\n",
    "pd.options.display.max_columns = 80\n",
    "pd.options.display.max_rows = 90"
   ]
  },
  {
   "cell_type": "code",
   "execution_count": 2,
   "metadata": {
    "pycharm": {
     "name": "#%%\n"
    }
   },
   "outputs": [],
   "source": [
    "filename = '../FILIADOS_pt_SP.csv'\n",
    "columns = [\n",
    "    'NUMERO_INSCRICAO', 'NOME_FILIADO', 'SIGLA_PARTIDO', 'NOME_PARTIDO', 'UF', 'COD_MUN_TSE',\n",
    "    'NOME_MUNICIPIO', 'NUM_ZONA', 'NUM_SECAO', 'SITUACAO_REGISTRO']\n",
    "\n",
    "data_frame = pd.read_csv(filename, encoding='ISO-8859-1')\n",
    "# data_frame.shape"
   ]
  },
  {
   "cell_type": "code",
   "execution_count": 3,
   "metadata": {
    "pycharm": {
     "name": "#%%\n"
    }
   },
   "outputs": [],
   "source": [
    "data_frame.rename(columns={\n",
    "    'NUMERO_INSCRICAO': 'Número de Inscrição',\n",
    "    'NOME_FILIADO': 'Nome do Filiado',\n",
    "    'SIGLA_PARTIDO': 'Sigla do Partido',\n",
    "    'NOME_PARTIDO': 'Nome do Partido',\n",
    "    'UF': 'Estado',\n",
    "    'COD_MUN_TSE': 'Código Municiopal (TSE)',\n",
    "    'NOME_MUNICIPIO': 'Município',\n",
    "    'NUM_ZONA': 'Número da Zona Eleitoral',\n",
    "    'NUM_SECAO': 'Número da Seção Eleitoral',\n",
    "    'SITUACAO_REGISTRO': 'Situação do Registro'\n",
    "}, inplace=True)"
   ]
  },
  {
   "cell_type": "code",
   "execution_count": null,
   "metadata": {},
   "outputs": [],
   "source": [
    "data_frame.groupby('Número da Seção Eleitoral').size().sort_values().tail(20).plot(kind='barh', figsize=(10,10))"
   ]
  }
 ],
 "metadata": {
  "kernelspec": {
   "display_name": "Python 3",
   "language": "python",
   "name": "python3"
  },
  "language_info": {
   "codemirror_mode": {
    "name": "ipython",
    "version": 3
   },
   "file_extension": ".py",
   "mimetype": "text/x-python",
   "name": "python",
   "nbconvert_exporter": "python",
   "pygments_lexer": "ipython3",
   "version": "3.8.5"
  }
 },
 "nbformat": 4,
 "nbformat_minor": 1
}
