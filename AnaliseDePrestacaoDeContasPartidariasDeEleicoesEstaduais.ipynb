{
 "cells": [
  {
   "cell_type": "markdown",
   "metadata": {
    "pycharm": {
     "name": "#%% md\n"
    }
   },
   "source": [
    "### Análise de Prestação de Contas Partidárias de Eleições Estaduais"
   ]
  },
  {
   "cell_type": "code",
   "execution_count": null,
   "metadata": {
    "pycharm": {
     "name": "#%%\n"
    }
   },
   "outputs": [],
   "source": [
    "# Importação das libs\n",
    "import locale\n",
    "import copy\n",
    "from locale import atof\n",
    "import electionsBR as api\n",
    "import pandas as pd"
   ]
  },
  {
   "cell_type": "code",
   "execution_count": null,
   "metadata": {},
   "outputs": [],
   "source": [
    "# Ajuste de formatação\n",
    "locale.setlocale(locale.LC_ALL, 'pt_BR.UTF-8')\n",
    "pd.set_option(\"float_format\", locale.currency)"
   ]
  },
  {
   "cell_type": "code",
   "execution_count": null,
   "metadata": {
    "pycharm": {
     "name": "#%%\n"
    }
   },
   "outputs": [],
   "source": [
    "# Leitura dos dados dos bens declarados para um determinado cargo (presidente, governador, senador, deputado federal, deputado estadual, prefeito, vereador)\n",
    "\n",
    "elections2010 = api.get_assets(year=2010, position=\"governador\")\n",
    "elections2014 = api.get_assets(year=2014, position=\"governador\")\n",
    "elections2018 = api.get_assets(year=2018, position=\"governador\")"
   ]
  },
  {
   "cell_type": "code",
   "execution_count": null,
   "metadata": {
    "pycharm": {
     "name": "#%%\n"
    }
   },
   "outputs": [],
   "source": [
    "# Filtro para exibir registros (contém todas as colunas) onde a 'SIGLA_UF' seja apenas 'SP' ou 'RJ' e DESCRICAO_CARGO seja 'GOVERNADOR'\n",
    "filter_elections2010 = elections2010[(elections2010[\"DESCRICAO_CARGO\"] == \"GOVERNADOR\")]\n",
    "filter_elections2014 = elections2014[(elections2014[\"DESCRICAO_CARGO\"] == \"GOVERNADOR\")]\n",
    "filter_elections2018 = elections2018[(elections2018[\"DESCRICAO_CARGO\"] == \"GOVERNADOR\")]\n",
    "filter_elections2010.sample(5)"
   ]
  },
  {
   "cell_type": "code",
   "execution_count": null,
   "metadata": {},
   "outputs": [],
   "source": [
    "# Exbibe os registros com uma lista de colunas pré-definidas\n",
    "elections2010.loc[:, ['DATA_GERACAO', 'ANO_ELEICAO', 'DESCRICAO_ELEICAO', 'SIGLA_UF', 'DESCRICAO_CARGO',\n",
    "                     'SIGLA_PARTIDO', 'NOME_CANDIDATO', 'CPF_CANDIDATO']].sample(5)"
   ]
  },
  {
   "cell_type": "code",
   "execution_count": null,
   "metadata": {
    "pycharm": {
     "name": "#%%\n"
    }
   },
   "outputs": [],
   "source": [
    "# Utiliza o filtro e exibi os primeiros registros com as colunas desejadas e que satisfazem a condição (DESCRICAO_CARGO == 'GOVERNADOR') \n",
    "filter_elections2010.loc[:, ['DATA_GERACAO', 'ANO_ELEICAO', 'DESCRICAO_ELEICAO', 'SIGLA_UF', 'DESCRICAO_CARGO',\n",
    "                     'SIGLA_PARTIDO', 'NOME_CANDIDATO', 'CPF_CANDIDATO', 'DETALHE_BEM', 'VALOR_BEM']].head()"
   ]
  },
  {
   "cell_type": "code",
   "execution_count": null,
   "metadata": {
    "pycharm": {
     "name": "#%%\n"
    }
   },
   "outputs": [],
   "source": [
    "# Utiliza o filtro para exibir os últimos registros e as colunas desejadas de acordo com o indice correspondente de cada coluna\n",
    "filter_elections2010.iloc[:, [0, 2, 3, 4, 15, 17, 18, 20, 8, 9]].tail()"
   ]
  },
  {
   "cell_type": "code",
   "execution_count": null,
   "metadata": {
    "pycharm": {
     "name": "#%%\n"
    }
   },
   "outputs": [],
   "source": [
    "elections = pd.concat([elections2010, elections2014])\n",
    "elections = pd.concat([elections, elections2018])\n",
    "elections.reset_index(inplace=True)"
   ]
  },
  {
   "cell_type": "code",
   "execution_count": null,
   "metadata": {
    "pycharm": {
     "name": "#%%\n"
    }
   },
   "outputs": [],
   "source": [
    "# Exibe o nome de todas as colunas\n",
    "elections.columns"
   ]
  },
  {
   "cell_type": "code",
   "execution_count": null,
   "metadata": {
    "pycharm": {
     "name": "#%%\n"
    }
   },
   "outputs": [],
   "source": [
    "# Filtro para exibir registros (contém todas as colunas) onde a 'SIGLA_UF' seja apenas 'SP' e 'DESCRICAO_CARGO' seja 'GOVERNADOR'\n",
    "filter_elections_governors = elections[(elections[\"SIGLA_UF\"] == \"SP\") & (elections[\"DESCRICAO_CARGO\"] == \"GOVERNADOR\")]\n",
    "\n",
    "# Exibe todos os registros e bens declarados de cada candidato ao cargo de Governador de São Paulo nas eleições de 2010, 2014 e 2018\n",
    "filter_elections_governors.loc[:, ['DATA_GERACAO', 'ANO_ELEICAO', 'DESCRICAO_ELEICAO', 'SIGLA_UF',\n",
    "                                   'DESCRICAO_CARGO', 'SIGLA_PARTIDO', 'NOME_CANDIDATO', 'CPF_CANDIDATO',\n",
    "                                   'DETALHE_BEM', 'VALOR_BEM']]"
   ]
  },
  {
   "cell_type": "code",
   "execution_count": null,
   "metadata": {
    "pycharm": {
     "name": "#%%\n"
    }
   },
   "outputs": [],
   "source": [
    "# Verifica a quantidade de null agregado por campo\n",
    "filter_elections_governors.isnull().sum()"
   ]
  },
  {
   "cell_type": "code",
   "execution_count": null,
   "metadata": {
    "pycharm": {
     "name": "#%%\n"
    }
   },
   "outputs": [],
   "source": [
    "filter_elections_governors.notnull().sum()"
   ]
  },
  {
   "cell_type": "code",
   "execution_count": null,
   "metadata": {},
   "outputs": [],
   "source": [
    "# Soma do valor total de bens declarados por cada candidato\n",
    "bens_number = copy.deepcopy(filter_elections2018)\n",
    "bens_number[\"VALOR_BEM\"] = bens_number[\"VALOR_BEM\"].map(atof)\n",
    "#bens_number[\"VALOR_BEM\"] = pd.to_numeric(bens_number[\"VALOR_BEM\"])\n",
    "bens_number.groupby(\"CPF_CANDIDATO\")[\"VALOR_BEM\"].sum().sort_values(ascending=False)\n"
   ]
  },
  {
   "cell_type": "code",
   "execution_count": null,
   "metadata": {},
   "outputs": [],
   "source": [
    "# Grafico com os 10 candidatos com maior valor em bens declarados do país\n",
    "bens_number.groupby([\"NOME_CANDIDATO\", \"SIGLA_PARTIDO\", \"SIGLA_UF\"])[\"VALOR_BEM\"].max().sort_values().tail(10).plot(kind='barh', title=\"10 maiores valores de bens declarados\")"
   ]
  },
  {
   "cell_type": "code",
   "execution_count": null,
   "metadata": {},
   "outputs": [],
   "source": []
  }
 ],
 "metadata": {
  "kernelspec": {
   "display_name": "Python 3",
   "language": "python",
   "name": "python3"
  },
  "language_info": {
   "codemirror_mode": {
    "name": "ipython",
    "version": 3
   },
   "file_extension": ".py",
   "mimetype": "text/x-python",
   "name": "python",
   "nbconvert_exporter": "python",
   "pygments_lexer": "ipython3",
   "version": "3.8.6-final"
  }
 },
 "nbformat": 4,
 "nbformat_minor": 1
}